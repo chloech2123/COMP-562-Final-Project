{
  "nbformat": 4,
  "nbformat_minor": 0,
  "metadata": {
    "colab": {
      "name": "562 project.ipynb",
      "provenance": [],
      "toc_visible": true,
      "authorship_tag": "ABX9TyPl0A13TOQe9U5+xx2udiXb",
      "include_colab_link": true
    },
    "kernelspec": {
      "name": "python3",
      "display_name": "Python 3"
    },
    "language_info": {
      "name": "python"
    }
  },
  "cells": [
    {
      "cell_type": "markdown",
      "metadata": {
        "id": "view-in-github",
        "colab_type": "text"
      },
      "source": [
        "<a href=\"https://colab.research.google.com/github/chloech2123/COMP-562-Final-Project/blob/main/562_project.ipynb\" target=\"_parent\"><img src=\"https://colab.research.google.com/assets/colab-badge.svg\" alt=\"Open In Colab\"/></a>"
      ]
    },
    {
      "cell_type": "code",
      "source": [
        "import pandas as pd\n",
        "import numpy as np"
      ],
      "metadata": {
        "id": "jnIKGwvDNyVg"
      },
      "execution_count": 1,
      "outputs": []
    },
    {
      "cell_type": "code",
      "execution_count": 2,
      "metadata": {
        "id": "m09q6TZ-Ni_J",
        "colab": {
          "base_uri": "https://localhost:8080/"
        },
        "outputId": "d5921646-52e5-443c-d70f-b66178d35ba1"
      },
      "outputs": [
        {
          "output_type": "stream",
          "name": "stdout",
          "text": [
            "Mounted at /content/drive\n"
          ]
        }
      ],
      "source": [
        "from google.colab import drive\n",
        "drive.mount('/content/drive')"
      ]
    },
    {
      "cell_type": "code",
      "source": [
        "precipitation_data_path = \"./drive/MyDrive/data/heart.csv\""
      ],
      "metadata": {
        "id": "Lw6qv-6UNu0J"
      },
      "execution_count": 3,
      "outputs": []
    }
  ]
}